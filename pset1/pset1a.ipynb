#pset1A
annual_salary=float(input("Enter your annual salary:"))
portion_saved=float(input("Enter your portion saved"))
total_cost=float(input("Enter your total cost"))
portion_down_payment=0.25*total_cost
current_savings=0
r=0.04
additional=r/12
number_of_month=0
monthly_salary=annual_salary*portion_saved/12
while current_savings<portion_down_payment: 
    current_savings+=monthly_salary+(current_savings*additional)
    number_of_month+=1
print("Number of months",number_of_month);
