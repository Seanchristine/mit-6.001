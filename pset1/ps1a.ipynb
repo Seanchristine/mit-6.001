{
 "cells": [
  {
   "cell_type": "code",
   "execution_count": 5,
   "id": "2269149e-7787-421c-898a-ff68f4c3bad9",
   "metadata": {},
   "outputs": [
    {
     "name": "stdin",
     "output_type": "stream",
     "text": [
      "Enter your annual salary: 80000\n",
      "Enter your portion saved 0.15\n",
      "Enter your total cost 500000\n"
     ]
    }
   ],
   "source": [
    "#pset1A\n",
    "annual_salary=float(input(\"Enter your annual salary:\"))\n",
    "portion_saved=float(input(\"Enter your portion saved\"))\n",
    "total_cost=float(input(\"Enter your total cost\"))\n",
    "portion_down_payment=0.25*total_cost\n",
    "current_savings=0\n",
    "r=0.04\n",
    "additional=r/12\n",
    "number_of_month=0\n",
    "monthly_salary=annual_salary*portion_saved/12\n"
   ]
  },
  {
   "cell_type": "code",
   "execution_count": 6,
   "id": "33015cc7-35d7-4f00-b3bd-9fc5bc728d72",
   "metadata": {},
   "outputs": [
    {
     "name": "stdout",
     "output_type": "stream",
     "text": [
      "number of month 105\n"
     ]
    }
   ],
   "source": [
    "while current_savings<portion_down_payment: \n",
    "    current_savings+=monthly_salary+(current_savings*additional)\n",
    "    number_of_month+=1\n",
    "print(\"Number of months\",number_of_month);"
   ]
  },
  {
   "cell_type": "code",
   "execution_count": null,
   "id": "891f47b6-b703-463a-afd4-72e6b105ea4b",
   "metadata": {},
   "outputs": [],
   "source": []
  }
 ],
 "metadata": {
  "kernelspec": {
   "display_name": "Python 3 (ipykernel)",
   "language": "python",
   "name": "python3"
  },
  "language_info": {
   "codemirror_mode": {
    "name": "ipython",
    "version": 3
   },
   "file_extension": ".py",
   "mimetype": "text/x-python",
   "name": "python",
   "nbconvert_exporter": "python",
   "pygments_lexer": "ipython3",
   "version": "3.11.6"
  }
 },
 "nbformat": 4,
 "nbformat_minor": 5
}
